{
 "cells": [
  {
   "cell_type": "code",
   "execution_count": null,
   "id": "e6e1481b-1dcd-41f4-9874-a647d3b815fc",
   "metadata": {},
   "outputs": [],
   "source": [
    "!pip install aenum\n",
    "\n",
    "#execute this 1st\n",
    "#required for lyzr"
   ]
  },
  {
   "cell_type": "code",
   "execution_count": null,
   "id": "238f2e30-995d-4070-917e-6d5fdafad602",
   "metadata": {},
   "outputs": [],
   "source": [
    "pip install lyzr"
   ]
  },
  {
   "cell_type": "code",
   "execution_count": null,
   "id": "ba325d13-e37e-46a1-a8e2-e1b6bf135a83",
   "metadata": {},
   "outputs": [],
   "source": [
    "!pip install --upgrade youtube_transcript_api"
   ]
  },
  {
   "cell_type": "code",
   "execution_count": null,
   "id": "e483a56f-2f4c-4dac-8592-0db881b13f02",
   "metadata": {},
   "outputs": [],
   "source": [
    "!pip install docx2txt\n",
    "\n",
    "#word documents"
   ]
  },
  {
   "cell_type": "code",
   "execution_count": null,
   "id": "f7c83495-c3cf-4bff-a158-706b5b7aeb32",
   "metadata": {},
   "outputs": [],
   "source": [
    "!pip install -- upgrade nest_asyncio\n",
    "#prevent conflicting loops"
   ]
  },
  {
   "cell_type": "code",
   "execution_count": null,
   "id": "cd1e4d3d-32da-42a3-b0d3-56e92dbc1bf4",
   "metadata": {},
   "outputs": [],
   "source": [
    "!pip install --upgrade playwright\n",
    "#for browser related"
   ]
  },
  {
   "cell_type": "code",
   "execution_count": null,
   "id": "1be8931b-1fff-4348-a6b7-311355fe71e4",
   "metadata": {},
   "outputs": [],
   "source": [
    "!sudo apt-get install libwoff2dec-bin libgstreamer1.0-0 libgstreamer-plugins-base1.0-0 libharfbuzz-icu0\n",
    "#(missing libraries in playwright)"
   ]
  }
 ],
 "metadata": {
  "kernelspec": {
   "display_name": "Python 3 (ipykernel)",
   "language": "python",
   "name": "python3"
  },
  "language_info": {
   "codemirror_mode": {
    "name": "ipython",
    "version": 3
   },
   "file_extension": ".py",
   "mimetype": "text/x-python",
   "name": "python",
   "nbconvert_exporter": "python",
   "pygments_lexer": "ipython3",
   "version": "3.11.7"
  }
 },
 "nbformat": 4,
 "nbformat_minor": 5
}
