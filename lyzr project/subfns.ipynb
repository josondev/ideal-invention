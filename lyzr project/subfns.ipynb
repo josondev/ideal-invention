{
 "cells": [
  {
   "cell_type": "code",
   "execution_count": null,
   "id": "fc1701d6-8c06-4812-b3af-23fa4a14b34d",
   "metadata": {},
   "outputs": [],
   "source": [
    "def Voice(ans,key):\n",
    "  from lyzr import VoiceBot\n",
    "  vb=VoiceBot(api_key=key)\n",
    "  if(ans=='Text-to-speech'):\n",
    "    vb.text_to_speech(input('enter the text to be converted to speech:'))\n",
    "    print('Successful execution.Please check the files.')\n",
    "  elif(ans=='Text-to-notes'):\n",
    "    print(vb.text_to_notes(input('enter the text to be converted to notes:')))\n",
    "  elif(ans==\"Transcribe\"):\n",
    "    print(vb.transcribe(input('enter the audio file to be converted to text:')))\n",
    "  else:\n",
    "    print(\"enter a valid operation.\")"
   ]
  },
  {
   "cell_type": "code",
   "execution_count": null,
   "id": "502b1f6d-23ed-4e93-ac67-57664d34d3bd",
   "metadata": {},
   "outputs": [],
   "source": [
    "def Summariser():\n",
    "  from lyzr import Summarizer\n",
    "  summarizer = Summarizer(api_key=key)\n",
    "  ans=input('enter the text to be converted to a summary:')\n",
    "  print(summarizer.summarize(ans))"
   ]
  }
 ],
 "metadata": {
  "kernelspec": {
   "display_name": "Python 3 (ipykernel)",
   "language": "python",
   "name": "python3"
  },
  "language_info": {
   "codemirror_mode": {
    "name": "ipython",
    "version": 3
   },
   "file_extension": ".py",
   "mimetype": "text/x-python",
   "name": "python",
   "nbconvert_exporter": "python",
   "pygments_lexer": "ipython3",
   "version": "3.11.7"
  }
 },
 "nbformat": 4,
 "nbformat_minor": 5
}
