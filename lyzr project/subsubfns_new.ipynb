{
 "cells": [
  {
   "cell_type": "code",
   "execution_count": null,
   "id": "2f08b0c0-f1ed-4f2a-833f-bb293140bfd9",
   "metadata": {},
   "outputs": [],
   "source": [
    "def Chat_pdf():\n",
    "  from google.colab import files\n",
    "  from lyzr import ChatBot\n",
    "  while(1):\n",
    "      try:\n",
    "          uploaded = files.upload()  # Returns a dictionary\n",
    "          filename = next(iter(uploaded))\n",
    "          search_agent = ChatBot.pdf_chat(input_files=[filename])  # Create SearchAgent from PDF\n",
    "          ans = input(\"Your question here:\")\n",
    "          response = search_agent.query(ans)  # Use search method\n",
    "          print(response)\n",
    "          break\n",
    "      except Exception as e:  # Catch any exception and assign it to 'e'\n",
    "        print(f'An error occurred: {e}')"
           finally:
             continue_program = input("Do you want to continue? (yes or no): ")
             if continue_program.lower() == "no":
                 print("Exiting program.")
                 break

             
   ]
  },
  {
   "cell_type": "code",
   "execution_count": null,
   "id": "f5d9cca3-f692-490d-b9ff-c5323baca9d1",
   "metadata": {},
   "outputs": [],
   "source": [
    "def Chat_text():\n",
    "  from google.colab import files\n",
    "  from lyzr import ChatBot\n",
    "  while(1):\n",
    "      try:\n",
    "          uploaded = files.upload()  # Returns a dictionary\n",
    "          filename = next(iter(uploaded))\n",
    "          search_agent = ChatBot.txt_chat(input_files=[filename])  # Create SearchAgent from text files\n",
    "          ans = input(\"Your question here:\")\n",
    "          response = search_agent.query(ans)  # Use search method\n",
    "          print(response)\n",
    "          break\n",
    "      except Exception as e:  # Catch any exception and assign it to 'e'\n",
    "        print(f'An error occurred: {e}')"
           finally:
             continue_program = input("Do you want to continue? (yes or no): ")
             if continue_program.lower() == "no":
                 print("Exiting program.")
                 break
   ]
  },
  {
   "cell_type": "code",
   "execution_count": null,
   "id": "806702af-44ee-437a-9a73-701e45927a42",
   "metadata": {},
   "outputs": [],
   "source": [
    "def Chat_word():\n",
    "  from google.colab import files\n",
    "  from lyzr import ChatBot\n",
    "  while(1):\n",
    "      try:\n",
    "          uploaded = files.upload()  # Returns a dictionary\n",
    "          filename = next(iter(uploaded))\n",
    "          search_agent = ChatBot.docx_chat(input_files=[filename])  # Create SearchAgent from word document\n",
    "          ans = input(\"Your question here:\")\n",
    "          response = search_agent.query(ans)  # Use search method\n",
    "          print(response)\n",
    "          break\n",
    "      except Exception as e:  # Catch any exception and assign it to 'e'\n",
    "        print(f'An error occurred: {e}')"
           finally:
             continue_program = input("Do you want to continue? (yes or no): ")
             if continue_program.lower() == "no":
                 print("Exiting program.")
                 break
   ]
  },
  {
   "cell_type": "code",
   "execution_count": null,
   "id": "bd9ebb1a-27ad-4e65-b884-2194e007caba",
   "metadata": {},
   "outputs": [],
   "source": [
    "def Chat_youtube(ans):\n",
    "  while 1:\n",
    "    try:\n",
    "      chatbot = ChatBot.youtube_chat(urls=[ans])\n",
    "      ans = input(\"Your question here:\")\n",
    "      response = chatbot.chat(ans)\n",
    "      print(response.response)\n",
    "      break\n",
    "    except Exception as e:  # Catch any exception and assign it to 'e'\n",
    "        print(f'An error occurred: {e}')"
         finally:
             continue_program = input("Do you want to continue? (yes or no): ")
             if continue_program.lower() == "no":
                 print("Exiting program.")
                 break
   ]
  },
  {
   "cell_type": "code",
   "execution_count": null,
   "id": "275e9807-b48d-49cd-86b8-edb78ed1a507",
   "metadata": {},
   "outputs": [],
   "source": [
    "def Chat_website(ans):\n",
    "    while 1:\n",
    "      try:\n",
    "        chatbot = ChatBot.website_chat(urls=[ans])\n",
    "        ans = input(\"Your question here:\")\n",
    "        response = chatbot.chat(ans)\n",
    "        print(response.response)\n",
    "        break\n",
    "      except Exception as e:  # Catch any exception and assign it to 'e'\n",
    "        print(f'An error occurred: {e}')"
           finally:
             continue_program = input("Do you want to continue? (yes or no): ")
             if continue_program.lower() == "no":
                 print("Exiting program.")
                 break
   ]
  },
  {
   "cell_type": "code",
   "execution_count": null,
   "id": "a2868e37-25a0-45a2-ab2e-08534c3894ee",
   "metadata": {},
   "outputs": [],
   "source": [
    "def Chat_webpage(ans):\n",
    "  from lyzr import ChatBot\n",
    "  while(1):\n",
    "    try:\n",
    "      chatbot=ChatBot.webpage_chat(urls=[ans])\n",
    "      ans=input('your question here:')\n",
    "      result=chatbot.query(ans)\n",
    "      print(result)\n",
    "      break\n",
    "    except Exception as e:  # Catch any exception and assign it to 'e'\n",
    "        print(f'An error occurred: {e}')"
         
   ]
  },
  {
   "cell_type": "code",
   "execution_count": null,
   "id": "fbfadd41-a7d3-4223-85ab-ab72bfd714fa",
   "metadata": {},
   "outputs": [],
   "source": [
    "def Search_pdf():\n",
    "  from google.colab import files\n",
    "  from lyzr import SearchAgent\n",
    "  while(1):\n",
    "    try:\n",
    "      uploaded = files.upload()  # Returns a dictionary\n",
    "      filename = next(iter(uploaded))\n",
    "      search_agent = SearchAgent.add_pdf(input_files=[filename])  # Create Search\n",
    "      ans = input(\"Your question here:\")\n",
    "      response = search_agent.query(ans)\n",
    "      print(response.response)\n",
    "      break\n",
    "    except Exception as e:  # Catch any exception and assign it to 'e'\n",
    "        print(f'An error occurred: {e}')"
         finally:
             continue_program = input("Do you want to continue? (yes or no): ")
             if continue_program.lower() == "no":
                 print("Exiting program.")
                 break
   ]
  },
  {
   "cell_type": "code",
   "execution_count": null,
   "id": "4bed3a56-d7ae-459d-aafd-0d65341ab3c0",
   "metadata": {},
   "outputs": [],
   "source": [
    "def Search_text():\n",
    "  from google.colab import files\n",
    "  from lyzr import SearchAgent\n",
    "  while(1):\n",
    "    try:\n",
    "      uploaded = files.upload()  # Returns a dictionary\n",
    "      filename = next(iter(uploaded))\n",
    "      search_agent = SearchAgent.add_text(input_files=[filename])  # Create Search\n",
    "      ans = input(\"Your question here:\")\n",
    "      response = search_agent.query(ans)\n",
    "      print(response.response)\n",
    "      break\n",
    "    except Exception as e:  # Catch any exception and assign it to 'e'\n",
    "        print(f'An error occurred: {e}')"
         finally:
             continue_program = input("Do you want to continue? (yes or no): ")
             if continue_program.lower() == "no":
                 print("Exiting program.")
                 break
   ]
  },
  {
   "cell_type": "code",
   "execution_count": null,
   "id": "38817460-c41f-449d-aea2-1fc3523f42ae",
   "metadata": {},
   "outputs": [],
   "source": [
    "def Search_word():\n",
    "  from google.colab import files\n",
    "  from lyzr import SearchAgent\n",
    "  while(1):\n",
    "    try:\n",
    "      uploaded = files.upload()  # Returns a dictionary\n",
    "      filename = next(iter(uploaded))\n",
    "      search_agent = SearchAgent.add_docx(input_files=[filename])  # Create Search\n",
    "      ans = input(\"Your question here:\")\n",
    "      response = search_agent.query(ans)\n",
    "      print(response.response)\n",
    "      break\n",
    "    except Exception as e:  # Catch any exception and assign it to 'e'\n",
    "      print(f'An error occurred: {e}')"
         finally:
             continue_program = input("Do you want to continue? (yes or no): ")
             if continue_program.lower() == "no":
                 print("Exiting program.")
                 break
   ]
  },
  {
   "cell_type": "code",
   "execution_count": null,
   "id": "41db6194-0168-4215-9545-5434ce94d67d",
   "metadata": {},
   "outputs": [],
   "source": [
    "def Search_youtube(ans):\n",
    "    from lyzr import SearchAgent\n",
    "    while 1:\n",
    "      try:\n",
    "        search_agent = SearchAgent.add_youtube(ans)\n",
    "        ans = input(\"Your question here:\")\n",
    "        response = search_agent.query(ans)\n",
    "        print(response.response)\n",
    "        break\n",
    "      except Exception as e:  # Catch any exception and assign it to 'e'\n",
    "        print(f'An error occurred: {e}')"
           finally:
             continue_program = input("Do you want to continue? (yes or no): ")
             if continue_program.lower() == "no":
                 print("Exiting program.")
                 break 
   ]
  },
  {
   "cell_type": "code",
   "execution_count": null,
   "id": "c92ab3ac-fd27-4f3c-a6f7-b7e14fa7ebd2",
   "metadata": {},
   "outputs": [],
   "source": [
    "def Search_website(ans):\n",
    "    from lyzr import SearchAgent\n",
    "    while(1):\n",
    "      try:\n",
    "        search_agent=SearchAgent.add_website(ans)\n",
    "        ans=input('your question here:')\n",
    "        result=search_agent.query(ans)\n",
    "        print(result)\n",
    "        break\n",
    "      except Exception as e:  # Catch any exception and assign it to 'e'\n",
    "        print(f'An error occurred: {e}')"
           finally:
             continue_program = input("Do you want to continue? (yes or no): ")
             if continue_program.lower() == "no":
                 print("Exiting program.")
                 break
   ]
  },
  {
   "cell_type": "code",
   "execution_count": null,
   "id": "a8f855e9-3f48-41c7-b280-ea56aff1c45d",
   "metadata": {},
   "outputs": [],
   "source": [
    "def Search_webpage(ans):\n",
    "    from lyzr import SearchAgent\n",
    "    while(1):\n",
    "      try:\n",
    "        search_agent=SearchAgent.add_webpage(ans)\n",
    "        ans=input('your question here:')\n",
    "        result=search_agent.query(ans)\n",
    "        print(result)\n",
    "        break\n",
    "      except Exception as e:  # Catch any exception and assign it to 'e'\n",
    "        print(f'An error occurred: {e}')"
           finally:
             continue_program = input("Do you want to continue? (yes or no): ")
             if continue_program.lower() == "no":
                 print("Exiting program.")
                 break
   ]
  }
 ],
 "metadata": {
  "kernelspec": {
   "display_name": "Python 3 (ipykernel)",
   "language": "python",
   "name": "python3"
  },
  "language_info": {
   "codemirror_mode": {
    "name": "ipython",
    "version": 3
   },
   "file_extension": ".py",
   "mimetype": "text/x-python",
   "name": "python",
   "nbconvert_exporter": "python",
   "pygments_lexer": "ipython3",
   "version": "3.11.7"
  }
 },
 "nbformat": 4,
 "nbformat_minor": 5
}
